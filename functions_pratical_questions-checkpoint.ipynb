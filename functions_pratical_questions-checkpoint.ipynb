{
 "cells": [
  {
   "cell_type": "code",
   "execution_count": 4,
   "id": "f30c1662-0d9d-40b3-a416-b2c31b6e8604",
   "metadata": {},
   "outputs": [
    {
     "name": "stdout",
     "output_type": "stream",
     "text": [
      "The sum of the elements is: 69\n"
     ]
    }
   ],
   "source": [
    "#1.\n",
    "lst = [ 1, 2,3,56,7]\n",
    "def sum_of_elements(lst):\n",
    "    return sum(lst)\n",
    "\n",
    "result = sum_of_elements(lst)\n",
    "print(\"The sum of the elements is:\", result)\n"
   ]
  },
  {
   "cell_type": "code",
   "execution_count": 5,
   "id": "71f83340-6afa-4ad4-81ea-58524f97d7a9",
   "metadata": {},
   "outputs": [
    {
     "name": "stdout",
     "output_type": "stream",
     "text": [
      "ecneicS ataD\n"
     ]
    }
   ],
   "source": [
    "#2.\n",
    "string = \"Data Science\"\n",
    "def string_rev(string):\n",
    "    return string[::-1]\n",
    "result = string_rev(string)\n",
    "print(result)"
   ]
  },
  {
   "cell_type": "code",
   "execution_count": 6,
   "id": "94693401-0095-4572-a145-ffdc5c377374",
   "metadata": {},
   "outputs": [
    {
     "name": "stdout",
     "output_type": "stream",
     "text": [
      "[1, 4, 9, 16, 25, 36]\n"
     ]
    }
   ],
   "source": [
    "#3.\n",
    "lst = [1 , 2, 3, 4, 5, 6]\n",
    "def list_square(lst):\n",
    "    return [i*i for i in lst]\n",
    "result = list_square(lst)\n",
    "print(result)"
   ]
  },
  {
   "cell_type": "code",
   "execution_count": 8,
   "id": "f882bf3c-6481-404f-87b2-9735807a5bf0",
   "metadata": {},
   "outputs": [
    {
     "name": "stdout",
     "output_type": "stream",
     "text": [
      "The number is not prime\n"
     ]
    }
   ],
   "source": [
    "#4.\n",
    "num = 78\n",
    "def prime_check(num):\n",
    "    for i in range(1,num):\n",
    "        if num % i == 0:\n",
    "            return \"The number is not prime\"\n",
    "    return \"The number is prime\"\n",
    "result = prime_check(num)\n",
    "print(result)\n",
    "        "
   ]
  },
  {
   "cell_type": "code",
   "execution_count": 10,
   "id": "cfcd7bbc-29be-41c2-97a0-8e04f6d95c4a",
   "metadata": {},
   "outputs": [
    {
     "name": "stdout",
     "output_type": "stream",
     "text": [
      "1\n",
      "2\n",
      "4\n",
      "8\n",
      "16\n",
      "32\n"
     ]
    }
   ],
   "source": [
    "#6.\n",
    "def powers_of_two(max_exponent):\n",
    "    for exponent in range(max_exponent + 1):\n",
    "        yield 2 ** exponent  \n",
    "\n",
    "for power in powers_of_two(5):  \n",
    "    print(power)\n"
   ]
  },
  {
   "cell_type": "code",
   "execution_count": 11,
   "id": "512b26b0-24ef-4ba7-bd78-c900fda85970",
   "metadata": {},
   "outputs": [
    {
     "name": "stdout",
     "output_type": "stream",
     "text": [
      "hello\n",
      "This is my first file.\n"
     ]
    }
   ],
   "source": [
    "#7.\n",
    "def read_file_line_by_line(file_path):\n",
    "    with open(file_path, 'r') as file: \n",
    "        for line in file:\n",
    "            yield line.strip() \n",
    "            \n",
    "file_path = 'example.txt' \n",
    "\n",
    "for line in read_file_line_by_line(file_path):\n",
    "    print(line)\n"
   ]
  },
  {
   "cell_type": "code",
   "execution_count": 12,
   "id": "e77e4ce8-60ad-4f6b-82bc-cd635ed05bf0",
   "metadata": {},
   "outputs": [
    {
     "name": "stdout",
     "output_type": "stream",
     "text": [
      "[(4, 1), (7, 2), (1, 3), (2, 5)]\n"
     ]
    }
   ],
   "source": [
    "#8.\n",
    "tuple_list = [(1, 3), (4, 1), (2, 5), (7, 2)]\n",
    "\n",
    "sorted_list = sorted(tuple_list, key=lambda x: x[1])\n",
    "\n",
    "print(sorted_list)\n"
   ]
  },
  {
   "cell_type": "code",
   "execution_count": 14,
   "id": "a7bef43b-ebf3-4775-b1e1-8fe4c879d644",
   "metadata": {},
   "outputs": [
    {
     "name": "stdout",
     "output_type": "stream",
     "text": [
      "[32.0, 68.0, 98.60000000000001, 212.0]\n"
     ]
    }
   ],
   "source": [
    "#9.\n",
    "celsius_temp = [0, 20, 37, 100]\n",
    "\n",
    "fahrenheit_temp = list(map(lambda c: (9/5) * c + 32, celsius_temp))\n",
    "\n",
    "print(fahrenheit_temp)\n"
   ]
  },
  {
   "cell_type": "code",
   "execution_count": 15,
   "id": "d657db90-e006-46ac-a591-ea198c484cc9",
   "metadata": {},
   "outputs": [
    {
     "name": "stdout",
     "output_type": "stream",
     "text": [
      "Hll Wrld, Pythn s wsm!\n"
     ]
    }
   ],
   "source": [
    "#10.\n",
    "input_string = \"Hello World, Python is awesome!\"\n",
    "vowels = \"aeiouAEIOU\"\n",
    "filtered_string = ''.join(filter(lambda char: char not in vowels, input_string))\n",
    "\n",
    "print(filtered_string)\n"
   ]
  },
  {
   "cell_type": "code",
   "execution_count": 16,
   "id": "92f136d9-7afc-4e47-bbb8-fd4249064b46",
   "metadata": {},
   "outputs": [
    {
     "name": "stdout",
     "output_type": "stream",
     "text": [
      "[(34587, 163.8), (98762, 284.0), (77226, 108.85000000000001), (88112, 84.97)]\n"
     ]
    }
   ],
   "source": [
    "#11.\n",
    "#Each sublist contains [order_number, price_per_item, quantity]\n",
    "orders = [\n",
    "    [34587, 40.95, 4],\n",
    "    [98762, 56.80, 5],\n",
    "    [77226, 32.95, 3],\n",
    "    [88112, 24.99, 3]\n",
    "]\n",
    "result = list(map(lambda order: (order[0], order[1] * order[2] if order[1] * order[2] >= 100 else order[1] * order[2] + 10), orders))\n",
    "print(result)\n"
   ]
  },
  {
   "cell_type": "code",
   "execution_count": null,
   "id": "56d327ac-9d38-4cc5-8a48-cc950aa35ef7",
   "metadata": {},
   "outputs": [],
   "source": []
  }
 ],
 "metadata": {
  "kernelspec": {
   "display_name": "Python 3 (ipykernel)",
   "language": "python",
   "name": "python3"
  },
  "language_info": {
   "codemirror_mode": {
    "name": "ipython",
    "version": 3
   },
   "file_extension": ".py",
   "mimetype": "text/x-python",
   "name": "python",
   "nbconvert_exporter": "python",
   "pygments_lexer": "ipython3",
   "version": "3.12.4"
  }
 },
 "nbformat": 4,
 "nbformat_minor": 5
}
